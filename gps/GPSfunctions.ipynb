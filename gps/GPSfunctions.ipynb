{
 "cells": [
  {
   "cell_type": "code",
   "execution_count": 96,
   "id": "ebdada92",
   "metadata": {},
   "outputs": [],
   "source": [
    "import math\n",
    "\n",
    "def bearingToTarget(currCoor,tarCoor): \n",
    "    #input: currCoor, tarCoor = set of coordinates [lat,lon], ie. [23.0231N,-34.204] (object of floats)\n",
    "    #output: bearing in deg from north, ie. 89 (float)\n",
    "\n",
    "    lat1, lon1 = currCoor\n",
    "    lat2, lon2 = tarCoor\n",
    "    \n",
    "    a = math.sin(lon2-lon1)*math.cos(lat2)\n",
    "    b = math.cos(lat1)*math.sin(lat2)-math.sin(lat1)*math.cos(lat2)*math.cos(lon2-lon1)\n",
    "    bearing = math.atan2(a,b) #in rad\n",
    "    return bearing*180/math.pi #convert to deg\n",
    "\n",
    "def parseCoor(coor): \n",
    "    #input: lat and lon in format such as [\"23.0231N\",\"33.213W\"] (string)\n",
    "    #output: lat or lon in format such as [23.0231,-33.213] (for W and S) (float)\n",
    "    \n",
    "    #extract lat, lon of current and target location \n",
    "    lat, lon = coor\n",
    "    \n",
    "    \n",
    "    if (lat[-1] != \"N\") & (lat[-1] != \"S\"):\n",
    "        print(\"Error: wrong latitude format.\")\n",
    "        return\n",
    "    if (lon[-1] != \"W\") & (lat[-1] != \"E\"):\n",
    "        print(\"Error: wrong longtitude format.\")\n",
    "        return\n",
    "    \n",
    "    try:\n",
    "        if lat[-1] == \"S\":\n",
    "            lat = -float(lat[:-1])\n",
    "        else:\n",
    "            lat = float(lat[:-1])\n",
    "        if lon[-1] == \"W\":\n",
    "            lon = -float(lon[:-1])\n",
    "        else:\n",
    "            lon = float(lon[:-1])\n",
    "    except TypeError:\n",
    "        print(\"Not a valid number.\")\n",
    "    \n",
    "    #convert to lon lat to rad so we can put in trig\n",
    "    deg2rad = math.pi/180.0\n",
    "    lat = deg2rad*lat\n",
    "    lon = deg2rad*lon\n",
    "    \n",
    "    return [lat,lon]\n",
    "\n",
    "def distanceToTarget(currCoor,tarCoor): \n",
    "    #input: currCoor, tarCoor = [lat,lon], ie. [23.0231,-34.204] (object of floats)\n",
    "    #output: distance to target in meter (float)\n",
    "\n",
    "    lat1, lon1 = currCoor\n",
    "    lat2, lon2 = tarCoor\n",
    "    EarthRadiusMeter = 6371000\n",
    "    \n",
    "    #haversine formula\n",
    "    a = (math.sin((lat2-lat1)/2.0))**2 + math.cos(lat1)*math.cos(lat2)*(math.sin((lon2-lon1)/2))**2\n",
    "    c = 2*math.atan2(math.sqrt(a),math.sqrt(1-a))\n",
    "    \n",
    "    meter = EarthRadiusMeter * c\n",
    "    return meter;\n",
    "\n",
    "\n",
    "def angleToTarget(currHeading,currCoor,tarCoor):\n",
    "    #input: currHeading = current heading to target from magnetometer in deg (float)\n",
    "    #       currCoor, tarCoor = current and target coordinate [lat,lon], ie. [\"23.0231N\",\"34.204W\"] (object of strings)\n",
    "    #output: angle to target with respect to current heading in deg, positive mean to the right (float)\n",
    "    return bearingToTarget(currCoor,tarCoor)-currHeading\n",
    "\n",
    "\n",
    "def parseGPS():\n",
    "    #get data from GPS\n",
    "    #parse GPS messege and output as coordinate [lat,lon], ie. [\"23.1241N\",\"45.0921W\"] (object of strings)\n",
    "    return [\"23.1241N\",\"45.0921W\"]"
   ]
  },
  {
   "cell_type": "code",
   "execution_count": 100,
   "id": "464a94a9",
   "metadata": {},
   "outputs": [
    {
     "name": "stdout",
     "output_type": "stream",
     "text": [
      "Angle to target: -92.2596114164411  degrees\n",
      "Distance to target: 82.56109384269669  meters\n"
     ]
    }
   ],
   "source": [
    "#simulate main structure\n",
    "\n",
    "tarCoor = [\"23.1242N\",\"45.0929W\"] #input from user\n",
    "currCoor = parseGPS() #read from GPS\n",
    "currHeading = 10 #read from magnetometer, in deg\n",
    "\n",
    "#must parse these coordinate before performing calculation (convert datatypes and put in correct units)\n",
    "tarCoor = parseCoor(tarCoor)\n",
    "currCoor = parseCoor(currCoor)\n",
    "\n",
    "print(\"Angle to target:\",angleToTarget(currHeading,currCoor,tarCoor),\" degrees\")\n",
    "print(\"Distance to target:\",distanceToTarget(currCoor,tarCoor),\" meters\")"
   ]
  },
  {
   "cell_type": "code",
   "execution_count": null,
   "id": "f9cc52f9",
   "metadata": {},
   "outputs": [],
   "source": []
  }
 ],
 "metadata": {
  "kernelspec": {
   "display_name": "Python 3 (ipykernel)",
   "language": "python",
   "name": "python3"
  },
  "language_info": {
   "codemirror_mode": {
    "name": "ipython",
    "version": 3
   },
   "file_extension": ".py",
   "mimetype": "text/x-python",
   "name": "python",
   "nbconvert_exporter": "python",
   "pygments_lexer": "ipython3",
   "version": "3.7.13"
  }
 },
 "nbformat": 4,
 "nbformat_minor": 5
}
